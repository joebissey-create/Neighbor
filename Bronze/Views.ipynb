{
 "cells": [
  {
   "cell_type": "code",
   "execution_count": 0,
   "metadata": {
    "application/vnd.databricks.v1+cell": {
     "cellMetadata": {},
     "inputWidgets": {},
     "nuid": "de8b7663-2760-4891-a78e-b17e9857a2f8",
     "showTitle": false,
     "tableResultSettingsMap": {},
     "title": ""
    }
   },
   "outputs": [],
   "source": [
    "%sql\n",
    "--Aggregate View created for Search Events\n",
    "CREATE OR REPLACE VIEW neighbor.bronze.all_searcheventsagg\n",
    "as\n",
    "select \n",
    "  search_id,\n",
    "  merged_amplitude_id,\n",
    "  event_date,\n",
    "  date_format(event_time, 'HH:mm:ss.SSS') || 'Z' as event_time,\n",
    "  top20_listing_id as listingID,\n",
    "  search_dma,\n",
    "  search_type,\n",
    "  search_term,\n",
    "  search_term_category,\n",
    "  is_bot,\n",
    "  is_host,\n",
    "  is_neighbor_office,\n",
    "  first_attribution_channel,\n",
    "  first_attribution_source,\n",
    "  prior_search_id,\n",
    "  Avg(count_results) as SearchResults,\n",
    "  count(search_id) as PropertiesClicked\n",
    "from neighbor.bronze.all_search_events\n",
    "group by \n",
    "  search_id,\n",
    "  merged_amplitude_id,\n",
    "  event_date,\n",
    "  date_format(event_time, 'HH:mm:ss.SSS') || 'Z',\n",
    "  top20_listing_id,\n",
    "  search_dma,\n",
    "  search_type,\n",
    "  search_term,\n",
    "  search_term_category,\n",
    "  is_bot,\n",
    "  is_host,\n",
    "  is_neighbor_office,\n",
    "  first_attribution_channel,\n",
    "  first_attribution_source,\n",
    "  prior_search_id"
   ]
  }
 ],
 "metadata": {
  "application/vnd.databricks.v1+notebook": {
   "computePreferences": null,
   "dashboards": [],
   "environmentMetadata": {
    "base_environment": "",
    "environment_version": "3"
   },
   "inputWidgetPreferences": null,
   "language": "python",
   "notebookMetadata": {
    "pythonIndentUnit": 4
   },
   "notebookName": "Views",
   "widgets": {}
  },
  "language_info": {
   "name": "python"
  }
 },
 "nbformat": 4,
 "nbformat_minor": 0
}
