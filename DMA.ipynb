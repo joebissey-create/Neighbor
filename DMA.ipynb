{
 "cells": [
  {
   "cell_type": "markdown",
   "metadata": {
    "application/vnd.databricks.v1+cell": {
     "cellMetadata": {},
     "inputWidgets": {},
     "nuid": "d4744820-c7f5-4f3d-8fee-a9d9626936ec",
     "showTitle": false,
     "tableResultSettingsMap": {},
     "title": ""
    }
   },
   "source": [
    "# Create DMA dimension from sources\n",
    "## Take Bronze data and load it into Silver"
   ]
  },
  {
   "cell_type": "code",
   "execution_count": 0,
   "metadata": {
    "application/vnd.databricks.v1+cell": {
     "cellMetadata": {
      "byteLimit": 2048000,
      "rowLimit": 10000
     },
     "inputWidgets": {},
     "nuid": "8e734dd0-da4a-4916-9271-4f59d7de88ae",
     "showTitle": false,
     "tableResultSettingsMap": {},
     "title": ""
    }
   },
   "outputs": [],
   "source": [
    "%python\n",
    "#Set the operation needed when processing data. \n",
    "    #Daily will load only changes\n",
    "    #Reload will flush the data and reload\n",
    "    # Rebuild will drop and recreate the tables\n",
    "    \n",
    "dbutils.widgets.removeAll()\n",
    "#Operations\n",
    "dbutils.widgets.dropdown('Operations', 'Daily',['Daily','Reload','Rebuild'])\n",
    "\n",
    "operations = dbutils.widgets.get('Operations')\n"
   ]
  },
  {
   "cell_type": "markdown",
   "metadata": {
    "application/vnd.databricks.v1+cell": {
     "cellMetadata": {},
     "inputWidgets": {},
     "nuid": "02f2c7eb-34ae-46ce-a0c3-2ed08faad592",
     "showTitle": false,
     "tableResultSettingsMap": {},
     "title": ""
    }
   },
   "source": [
    "## Rebuild the table if needed"
   ]
  },
  {
   "cell_type": "code",
   "execution_count": 0,
   "metadata": {
    "application/vnd.databricks.v1+cell": {
     "cellMetadata": {
      "byteLimit": 2048000,
      "rowLimit": 10000
     },
     "inputWidgets": {},
     "nuid": "0ed739fd-ad01-4af0-87a6-c6ce33e2110d",
     "showTitle": false,
     "tableResultSettingsMap": {},
     "title": ""
    }
   },
   "outputs": [],
   "source": [
    "%python\n",
    "if operations =='Rebuild':\n",
    "    rebsql = f'''\n",
    "    CREATE OR REPLACE TABLE neighbor.silver.dma (\n",
    "        DMAID INTEGER,\n",
    "        DMAName STRING,\n",
    "        Region STRING,\n",
    "        DMARank  INTEGER,\n",
    "        TVHouseHoldPop DECIMAL(18,2),\n",
    "        Population DECIMAL(18,2),\n",
    "        HHPopulationPct DECIMAL(18,2),\n",
    "        MedianAge STRING,\n",
    "        UnemploymentRate STRING,\n",
    "        UPDATEDATEUTC TIMESTAMP\n",
    "      )\n",
    "    '''\n",
    "    spark.sql(rebsql)\n",
    "else:\n",
    "    print(\"This operation is skipped\")"
   ]
  },
  {
   "cell_type": "markdown",
   "metadata": {
    "application/vnd.databricks.v1+cell": {
     "cellMetadata": {},
     "inputWidgets": {},
     "nuid": "caad7081-7538-4a85-acbf-6d151b240b8e",
     "showTitle": false,
     "tableResultSettingsMap": {},
     "title": ""
    }
   },
   "source": [
    "## Reload data if needed"
   ]
  },
  {
   "cell_type": "code",
   "execution_count": 0,
   "metadata": {
    "application/vnd.databricks.v1+cell": {
     "cellMetadata": {},
     "inputWidgets": {},
     "nuid": "a4ce5a2f-a205-4ad7-88be-ba37bc1d04ff",
     "showTitle": false,
     "tableResultSettingsMap": {},
     "title": ""
    }
   },
   "outputs": [],
   "source": [
    "%python\n",
    "if operations == 'Reload':\n",
    "    asppsql = f'''\n",
    "TRUNCATE TABLE neighbor.silver.dma\n",
    "'''\n",
    "    spark.sql(asppsql)\n",
    "else: \n",
    "    print(\"This cell is skipped.\")\n"
   ]
  },
  {
   "cell_type": "markdown",
   "metadata": {
    "application/vnd.databricks.v1+cell": {
     "cellMetadata": {},
     "inputWidgets": {},
     "nuid": "21bf7ece-b442-4454-81c2-d4c2040a0d90",
     "showTitle": false,
     "tableResultSettingsMap": {},
     "title": ""
    }
   },
   "source": [
    "## Load data into silver schema"
   ]
  },
  {
   "cell_type": "code",
   "execution_count": 0,
   "metadata": {
    "application/vnd.databricks.v1+cell": {
     "cellMetadata": {
      "byteLimit": 2048000,
      "rowLimit": 10000
     },
     "inputWidgets": {},
     "nuid": "f477833b-0e7b-4eef-84b8-f075412f6702",
     "showTitle": false,
     "tableResultSettingsMap": {},
     "title": ""
    }
   },
   "outputs": [],
   "source": [
    "merSQL = '''\n",
    "MERGE INTO neighbor.silver.dma AS tgt\n",
    "USING (\n",
    "    SELECT DISTINCT\n",
    "        dd.DMAID AS DMAID,\n",
    "        res.dma AS DMAName,\n",
    "        Region AS Region,\n",
    "        dd.rank AS DMARank,\n",
    "        CASE\n",
    "            WHEN dd.TVHHS RLIKE '^[0-9.]+M' THEN TRY_CAST(REPLACE(dd.TVHHS, 'M', '') AS DECIMAL(18,2)) * 1000000\n",
    "            ELSE TRY_CAST(dd.TVHHS AS DECIMAL(18,2))\n",
    "        END AS TVHouseHoldPop,\n",
    "        CASE\n",
    "            WHEN dd.PctUSHHS RLIKE '^[0-9.]+%' THEN TRY_CAST(REPLACE(dd.PctUSHHS, '%', '') AS DECIMAL(18,2)) / 100\n",
    "            ELSE TRY_CAST(dd.PctUSHHS AS DECIMAL(18,2))\n",
    "        END AS HHPopulationPct,\n",
    "        CASE\n",
    "            WHEN dd.Pop RLIKE '^[0-9.]+M' THEN TRY_CAST(REPLACE(dd.Pop, 'M', '') AS DECIMAL(18,2)) * 1000000\n",
    "            ELSE TRY_CAST(dd.Pop AS DECIMAL(18,2))\n",
    "        END AS Population,\n",
    "        MedAge AS MedianAge,\n",
    "        CASE\n",
    "            WHEN TRY_CAST(UnemployRate AS DECIMAL(18,2)) > 1 THEN TRY_CAST(UnemployRate AS DECIMAL(18,2)) / 100\n",
    "            ELSE TRY_CAST(UnemployRate AS DECIMAL(18,2))\n",
    "        END AS UnemploymentRate\n",
    "    FROM neighbor.bronze.reservations res\n",
    "    JOIN neighbor.bronze.dma_detail dd ON res.dma = dd.dmaName\n",
    ") AS stg\n",
    "ON tgt.DMAID = stg.DMAID\n",
    "WHEN MATCHED THEN UPDATE SET\n",
    "    tgt.DMAName = stg.DMAName,\n",
    "    tgt.DMARank = stg.DMARank,\n",
    "    tgt.Region = stg.Region,\n",
    "    tgt.TVHouseHoldPop = stg.TVHouseHoldPop,\n",
    "    tgt.HHPopulationPct = stg.HHPopulationPct,\n",
    "    tgt.Population = stg.Population,\n",
    "    tgt.MedianAge = stg.MedianAge,\n",
    "    tgt.UnemploymentRate = stg.UnemploymentRate\n",
    "WHEN NOT MATCHED THEN INSERT (\n",
    "    DMAID, DMAName, Region, DMARank, TVHouseHoldPop, HHPopulationPct, Population, MedianAge, UnemploymentRate\n",
    ") \n",
    "VALUES (\n",
    "    stg.DMAID,\n",
    "    stg.DMAName,\n",
    "    stg.Region,\n",
    "    stg.DMARank,\n",
    "    stg.TVHouseHoldPop,\n",
    "    stg.HHPopulationPct,\n",
    "    stg.Population,\n",
    "    stg.MedianAge,\n",
    "    stg.UnemploymentRate\n",
    ")\n",
    "'''\n",
    "spark.sql(merSQL)"
   ]
  }
 ],
 "metadata": {
  "application/vnd.databricks.v1+notebook": {
   "computePreferences": null,
   "dashboards": [],
   "environmentMetadata": {
    "base_environment": "",
    "environment_version": "3"
   },
   "inputWidgetPreferences": null,
   "language": "python",
   "notebookMetadata": {
    "pythonIndentUnit": 4
   },
   "notebookName": "DMA",
   "widgets": {
    "Operations": {
     "currentValue": "Rebuild",
     "nuid": "86e6ed21-4b46-4855-82f3-7a55127aa9ce",
     "typedWidgetInfo": {
      "autoCreated": false,
      "defaultValue": "Daily",
      "label": null,
      "name": "Operations",
      "options": {
       "widgetDisplayType": "Dropdown",
       "choices": [
        "Daily",
        "Reload",
        "Rebuild"
       ],
       "fixedDomain": true,
       "multiselect": false
      },
      "parameterDataType": "String"
     },
     "widgetInfo": {
      "widgetType": "dropdown",
      "defaultValue": "Daily",
      "label": null,
      "name": "Operations",
      "options": {
       "widgetType": "dropdown",
       "autoCreated": null,
       "choices": [
        "Daily",
        "Reload",
        "Rebuild"
       ]
      }
     }
    }
   }
  },
  "language_info": {
   "name": "python"
  }
 },
 "nbformat": 4,
 "nbformat_minor": 0
}
