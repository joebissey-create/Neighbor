{
 "cells": [
  {
   "cell_type": "markdown",
   "metadata": {
    "application/vnd.databricks.v1+cell": {
     "cellMetadata": {},
     "inputWidgets": {},
     "nuid": "d4744820-c7f5-4f3d-8fee-a9d9626936ec",
     "showTitle": false,
     "tableResultSettingsMap": {},
     "title": ""
    }
   },
   "source": [
    "# Create Channel dimension from sources\n",
    "## Take Bronze data and load it into Silver"
   ]
  },
  {
   "cell_type": "code",
   "execution_count": 0,
   "metadata": {
    "application/vnd.databricks.v1+cell": {
     "cellMetadata": {
      "byteLimit": 2048000,
      "rowLimit": 10000
     },
     "inputWidgets": {},
     "nuid": "8e734dd0-da4a-4916-9271-4f59d7de88ae",
     "showTitle": false,
     "tableResultSettingsMap": {},
     "title": ""
    }
   },
   "outputs": [],
   "source": [
    "%python\n",
    "#Set the operation needed when processing data. \n",
    "    #Daily will load only changes\n",
    "    #Reload will flush the data and reload\n",
    "    # Rebuild will drop and recreate the tables\n",
    "    \n",
    "dbutils.widgets.removeAll()\n",
    "#Operations\n",
    "dbutils.widgets.dropdown('Operations', 'Daily',['Daily','Reload','Rebuild'])\n",
    "\n",
    "operations = dbutils.widgets.get('Operations')\n"
   ]
  },
  {
   "cell_type": "markdown",
   "metadata": {
    "application/vnd.databricks.v1+cell": {
     "cellMetadata": {},
     "inputWidgets": {},
     "nuid": "02f2c7eb-34ae-46ce-a0c3-2ed08faad592",
     "showTitle": false,
     "tableResultSettingsMap": {},
     "title": ""
    }
   },
   "source": [
    "## Rebuild the table if needed"
   ]
  },
  {
   "cell_type": "code",
   "execution_count": 0,
   "metadata": {
    "application/vnd.databricks.v1+cell": {
     "cellMetadata": {
      "byteLimit": 2048000,
      "rowLimit": 10000
     },
     "inputWidgets": {},
     "nuid": "0ed739fd-ad01-4af0-87a6-c6ce33e2110d",
     "showTitle": false,
     "tableResultSettingsMap": {},
     "title": ""
    }
   },
   "outputs": [],
   "source": [
    "%python\n",
    "if operations =='Rebuild':\n",
    "    rebsql = f'''\n",
    "    CREATE OR REPLACE TABLE neighbor.silver.channel (\n",
    "        ChannelID INTEGER,\n",
    "        ChannelNAme STRING,\n",
    "        UPDATEDATEUTC TIMESTAMP\n",
    "      )\n",
    "    '''\n",
    "    spark.sql(rebsql)\n",
    "else:\n",
    "    print(\"This operation is skipped\")"
   ]
  },
  {
   "cell_type": "markdown",
   "metadata": {
    "application/vnd.databricks.v1+cell": {
     "cellMetadata": {},
     "inputWidgets": {},
     "nuid": "caad7081-7538-4a85-acbf-6d151b240b8e",
     "showTitle": false,
     "tableResultSettingsMap": {},
     "title": ""
    }
   },
   "source": [
    "## Reload data if needed"
   ]
  },
  {
   "cell_type": "code",
   "execution_count": 0,
   "metadata": {
    "application/vnd.databricks.v1+cell": {
     "cellMetadata": {},
     "inputWidgets": {},
     "nuid": "a4ce5a2f-a205-4ad7-88be-ba37bc1d04ff",
     "showTitle": false,
     "tableResultSettingsMap": {},
     "title": ""
    }
   },
   "outputs": [],
   "source": [
    "%python\n",
    "if operations == 'Reload':\n",
    "    asppsql = f'''\n",
    "TRUNCATE TABLE neighbor.silver.channel\n",
    "'''\n",
    "    spark.sql(asppsql)\n",
    "else: \n",
    "    print(\"This cell is skipped.\")\n"
   ]
  },
  {
   "cell_type": "markdown",
   "metadata": {
    "application/vnd.databricks.v1+cell": {
     "cellMetadata": {},
     "inputWidgets": {},
     "nuid": "21bf7ece-b442-4454-81c2-d4c2040a0d90",
     "showTitle": false,
     "tableResultSettingsMap": {},
     "title": ""
    }
   },
   "source": [
    "## Load data into silver schema"
   ]
  },
  {
   "cell_type": "code",
   "execution_count": 0,
   "metadata": {
    "application/vnd.databricks.v1+cell": {
     "cellMetadata": {
      "byteLimit": 2048000,
      "rowLimit": 10000
     },
     "inputWidgets": {},
     "nuid": "f477833b-0e7b-4eef-84b8-f075412f6702",
     "showTitle": false,
     "tableResultSettingsMap": {},
     "title": ""
    }
   },
   "outputs": [],
   "source": [
    "merSQL = '''\n",
    "MERGE INTO neighbor.silver.channel AS tgt\n",
    "    USING (\n",
    "        select distinct \n",
    "    row_number() over (order by Channel) as channelid,\n",
    "    ch.channel as ChannelNAme\n",
    "    from\n",
    "    ( SELECT DISTINCT first_attribution_channel as Channel\n",
    "    from neighbor.bronze.all_search_events\n",
    "    )ch\n",
    ") AS stg\n",
    "ON tgt.ChannelID = stg.ChannelID\n",
    "WHEN MATCHED THEN UPDATE SET\n",
    "    tgt.ChannelNAme = stg.ChannelNAme,\n",
    "    tgt.UPDATEDATEUTC = to_utc_timestamp(CURRENT_TIMESTAMP, 'UTC')\n",
    "WHEN NOT MATCHED THEN INSERT (\n",
    "    ChannelID, ChannelNAme,UPDATEDATEUTC\n",
    ") \n",
    "VALUES (\n",
    "    stg.ChannelID,\n",
    "    stg.ChannelNAme,\n",
    "    to_utc_timestamp(CURRENT_TIMESTAMP, 'UTC')\n",
    ")\n",
    "'''\n",
    "spark.sql(merSQL)"
   ]
  },
  {
   "cell_type": "code",
   "execution_count": 0,
   "metadata": {
    "application/vnd.databricks.v1+cell": {
     "cellMetadata": {
      "byteLimit": 2048000,
      "implicitDf": true,
      "rowLimit": 10000
     },
     "inputWidgets": {},
     "nuid": "d1194ddb-0757-47f0-afec-06f968fb95d7",
     "showTitle": false,
     "tableResultSettingsMap": {},
     "title": ""
    }
   },
   "outputs": [],
   "source": [
    "%sql\n",
    "SELECT * FROM neighbor.silver.channel"
   ]
  }
 ],
 "metadata": {
  "application/vnd.databricks.v1+notebook": {
   "computePreferences": null,
   "dashboards": [],
   "environmentMetadata": {
    "base_environment": "",
    "environment_version": "3"
   },
   "inputWidgetPreferences": null,
   "language": "python",
   "notebookMetadata": {
    "mostRecentlyExecutedCommandWithImplicitDF": {
     "commandId": 386321956388072,
     "dataframes": [
      "_sqldf"
     ]
    },
    "pythonIndentUnit": 4
   },
   "notebookName": "Channel",
   "widgets": {
    "Operations": {
     "currentValue": "Rebuild",
     "nuid": "86e6ed21-4b46-4855-82f3-7a55127aa9ce",
     "typedWidgetInfo": {
      "autoCreated": false,
      "defaultValue": "Daily",
      "label": null,
      "name": "Operations",
      "options": {
       "widgetDisplayType": "Dropdown",
       "choices": [
        "Daily",
        "Reload",
        "Rebuild"
       ],
       "fixedDomain": true,
       "multiselect": false
      },
      "parameterDataType": "String"
     },
     "widgetInfo": {
      "widgetType": "dropdown",
      "defaultValue": "Daily",
      "label": null,
      "name": "Operations",
      "options": {
       "widgetType": "dropdown",
       "autoCreated": null,
       "choices": [
        "Daily",
        "Reload",
        "Rebuild"
       ]
      }
     }
    }
   }
  },
  "language_info": {
   "name": "python"
  }
 },
 "nbformat": 4,
 "nbformat_minor": 0
}
