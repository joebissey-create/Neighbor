{
 "cells": [
  {
   "cell_type": "markdown",
   "metadata": {
    "application/vnd.databricks.v1+cell": {
     "cellMetadata": {},
     "inputWidgets": {},
     "nuid": "d4744820-c7f5-4f3d-8fee-a9d9626936ec",
     "showTitle": false,
     "tableResultSettingsMap": {},
     "title": ""
    }
   },
   "source": [
    "# Create Search Result & Reservation Fact tables from sources\n",
    "## Take Bronze data and load it into Silver"
   ]
  },
  {
   "cell_type": "code",
   "execution_count": 0,
   "metadata": {
    "application/vnd.databricks.v1+cell": {
     "cellMetadata": {
      "byteLimit": 2048000,
      "rowLimit": 10000
     },
     "inputWidgets": {},
     "nuid": "f477833b-0e7b-4eef-84b8-f075412f6702",
     "showTitle": false,
     "tableResultSettingsMap": {},
     "title": ""
    }
   },
   "outputs": [],
   "source": [
    "srSQL = '''\n",
    "CREATE OR REPLACE TABLE neighbor.silver.searchevents AS\n",
    "SELECT \n",
    "  ca.CalendarKey,\n",
    "  t.TimeKey,\n",
    "  sa.merged_amplitude_id as MergedAmplitudeID,\n",
    "  sa.search_id as SearchID,\n",
    "  sa.listingID,\n",
    "  dma.DMAID,\n",
    "  st.SearchTermID,\n",
    "  ch.channelID,\n",
    "  src.SourceID,\n",
    "  sa.prior_search_id as priorsearchid,\n",
    "  avg(SearchResults) AS SearchCounts,\n",
    "  count(lde.search_id) as PropertiesClicked,\n",
    "  round(avg (lde.search_position),0) as AvgSearchPositionClicked,\n",
    "  to_utc_timestamp(CURRENT_TIMESTAMP, 'UTC') AS UPDATEDATEUTC\n",
    "FROM neighbor.bronze.all_searcheventsagg sa\n",
    "JOIN neighbor.silver.calendar ca \n",
    "  ON sa.event_date = ca.CalendarDate\n",
    "JOIN neighbor.silver.time t \n",
    "  ON sa.event_time >= t.StartTime\n",
    "     AND sa.event_time < t.EndTime\n",
    "JOIN neighbor.silver.dma dma \n",
    "  ON sa.search_dma = dma.DMAName\n",
    "JOIN neighbor.silver.searchterm st\n",
    "  ON sa.search_term = st.SearchTerm \n",
    "     AND sa.search_term_category = st.SearchTermCategory \n",
    "     AND sa.search_type = st.SearchType  \n",
    "JOIN neighbor.silver.channel ch\n",
    "  ON sa.first_attribution_channel = ch.channelName\n",
    "JOIN neighbor.silver.source src \n",
    "  ON sa.first_attribution_source = src.SourceName\n",
    "JOIN neighbor.bronze.listing_detail_events lde\n",
    "  ON lde.search_id = sa.search_id\n",
    "GROUP BY \n",
    "  ca.CalendarKey,\n",
    "  t.TimeKey,\n",
    "  sa.merged_amplitude_id,\n",
    "  sa.search_id,\n",
    "  sa.listingID,\n",
    "  dma.DMAID,\n",
    "  st.SearchTermID,\n",
    "  ch.channelID,\n",
    "  src.SourceID,\n",
    "  sa.prior_search_id\n",
    "'''\n",
    "spark.sql(srSQL)"
   ]
  },
  {
   "cell_type": "code",
   "execution_count": 0,
   "metadata": {
    "application/vnd.databricks.v1+cell": {
     "cellMetadata": {
      "byteLimit": 2048000,
      "implicitDf": true,
      "rowLimit": 10000
     },
     "inputWidgets": {},
     "nuid": "d1194ddb-0757-47f0-afec-06f968fb95d7",
     "showTitle": false,
     "tableResultSettingsMap": {},
     "title": ""
    }
   },
   "outputs": [],
   "source": [
    "%sql\n",
    "SELECT * FROM neighbor.silver.searchevents"
   ]
  },
  {
   "cell_type": "code",
   "execution_count": 0,
   "metadata": {
    "application/vnd.databricks.v1+cell": {
     "cellMetadata": {
      "byteLimit": 2048000,
      "rowLimit": 10000
     },
     "inputWidgets": {},
     "nuid": "82ffe609-77f9-48b2-a504-7f80f627445a",
     "showTitle": false,
     "tableResultSettingsMap": {},
     "title": ""
    }
   },
   "outputs": [],
   "source": [
    "resSQL ='''\n",
    "CREATE OR REPLACE TABLE neighbor.silver.reservations AS\n",
    "SELECT \n",
    "LDV.*,\n",
    "resv.AvgSearchPosition,\n",
    "resv.Reserved+resv.NotReserved as TotalSearchCount,\n",
    "resv.Reserved,\n",
    "resv.NotReserved\n",
    "from\n",
    "(select distinct\n",
    " concat(d.DMAID,'-',lde.listing_id) as ListingDMA,\n",
    " d.DMAName,\n",
    " lde.listing_id as ListingID,\n",
    " first_attribution_source as FirstAttributionSource,\n",
    " first_attribution_channel FirstAttributionChannel,\n",
    " count(1) as AppearedInSearches\n",
    " from neighbor.bronze.listing_detail_events lde\n",
    " LEFT JOIN  neighbor.silver.dma d on lde.click_dma=d.DMAName\n",
    " where lde.is_bot='false' and is_host='false'\n",
    "group by \n",
    "concat(d.DMAID,'-',lde.listing_id) ,\n",
    "d.dmaName,\n",
    " lde.listing_id,\n",
    " first_attribution_source,\n",
    " first_attribution_channel\n",
    ")LDV\n",
    "LEFT JOIN \n",
    "(\n",
    "select distinct\n",
    "concat(d.DMAID,'-',lde.listing_id) as DMAListingID,\n",
    "first_attribution_source, \n",
    "first_attribution_channel,\n",
    "round(avg(lde.search_position),0) as AvgSearchPosition,\n",
    "sum(case when r.created_at is not null then 1 else 0 end) as Reserved,\n",
    "sum(case when r.created_at is null then 1 else 0 end) as NotReserved\n",
    " from neighbor.bronze.listing_detail_events lde\n",
    "join neighbor.silver.dma d on lde.click_dma=d.DMAName\n",
    "left join neighbor.bronze.reservations r on lde.listing_id=r.listing_id and lde.click_dma=r.dma\n",
    "and cast(lde.event_date as date) = cast(r.created_at as date)\n",
    "where lde.is_bot='false' and is_host='false'\n",
    "group by \n",
    "concat(d.DMAID,'-',lde.listing_id),\n",
    "first_attribution_source, \n",
    "first_attribution_channel\n",
    ")resv\n",
    "on LDV.ListingDMA=resv.DMAListingID\n",
    "and LDV.FirstAttributionSource=resv.first_attribution_source and LDV.FirstAttributionChannel=resv.first_attribution_channel\n",
    "\n",
    "'''\n",
    "spark.sql(resSQL)"
   ]
  }
 ],
 "metadata": {
  "application/vnd.databricks.v1+notebook": {
   "computePreferences": null,
   "dashboards": [],
   "environmentMetadata": {
    "base_environment": "",
    "environment_version": "3"
   },
   "inputWidgetPreferences": null,
   "language": "python",
   "notebookMetadata": {
    "mostRecentlyExecutedCommandWithImplicitDF": {
     "commandId": 8664572756401770,
     "dataframes": [
      "_sqldf"
     ]
    },
    "pythonIndentUnit": 4
   },
   "notebookName": "Build Facts",
   "widgets": {
    "Operations": {
     "currentValue": "Rebuild",
     "nuid": "86e6ed21-4b46-4855-82f3-7a55127aa9ce",
     "typedWidgetInfo": {
      "autoCreated": false,
      "defaultValue": "Daily",
      "label": null,
      "name": "Operations",
      "options": {
       "widgetDisplayType": "Dropdown",
       "choices": [
        "Daily",
        "Reload",
        "Rebuild"
       ],
       "fixedDomain": true,
       "multiselect": false
      },
      "parameterDataType": "String"
     },
     "widgetInfo": {
      "widgetType": "dropdown",
      "defaultValue": "Daily",
      "label": null,
      "name": "Operations",
      "options": {
       "widgetType": "dropdown",
       "autoCreated": null,
       "choices": [
        "Daily",
        "Reload",
        "Rebuild"
       ]
      }
     }
    }
   }
  },
  "language_info": {
   "name": "python"
  }
 },
 "nbformat": 4,
 "nbformat_minor": 0
}
