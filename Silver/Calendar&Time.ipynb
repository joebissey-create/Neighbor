{
 "cells": [
  {
   "cell_type": "markdown",
   "metadata": {
    "application/vnd.databricks.v1+cell": {
     "cellMetadata": {
      "byteLimit": 2048000,
      "rowLimit": 10000
     },
     "inputWidgets": {},
     "nuid": "7b224126-14d4-452c-8cb5-3adadd4528cf",
     "showTitle": false,
     "tableResultSettingsMap": {},
     "title": ""
    }
   },
   "source": [
    "# Calendar and time dimension builder\n",
    "## Automatically build out a time and calendar dimension via scripting"
   ]
  },
  {
   "cell_type": "code",
   "execution_count": 0,
   "metadata": {
    "application/vnd.databricks.v1+cell": {
     "cellMetadata": {
      "byteLimit": 2048000,
      "rowLimit": 10000
     },
     "inputWidgets": {},
     "nuid": "2c855839-e501-4d5f-b817-c2df890ed897",
     "showTitle": false,
     "tableResultSettingsMap": {},
     "title": ""
    }
   },
   "outputs": [],
   "source": [
    "#drop the tables before creating them\n",
    "spark.sql(\"DROP TABLE IF EXISTS neighbor.silver.calendar\")\n",
    "spark.sql(\"DROP TABLE IF EXISTS neighbor.silver.time\")"
   ]
  },
  {
   "cell_type": "code",
   "execution_count": 0,
   "metadata": {
    "application/vnd.databricks.v1+cell": {
     "cellMetadata": {
      "byteLimit": 2048000,
      "rowLimit": 10000
     },
     "inputWidgets": {},
     "nuid": "ce175865-f63c-40f6-82eb-b03ffd149b50",
     "showTitle": false,
     "tableResultSettingsMap": {},
     "title": ""
    }
   },
   "outputs": [],
   "source": [
    "from pyspark.sql.functions import (\n",
    "    col, expr, date_format, dayofmonth, dayofweek, dayofyear, weekofyear, month, year, quarter,\n",
    "    last_day, trunc\n",
    ")\n",
    "\n",
    "start_date = \"2022-01-01\"\n",
    "end_date = \"2024-12-31\"\n",
    "\n",
    "dates_df = (\n",
    "    spark.range(\n",
    "        0,\n",
    "        (spark.sql(f\"SELECT datediff('{end_date}', '{start_date}' )\").collect()[0][0]) + 1\n",
    "    )\n",
    "    .withColumn(\"date\", expr(f\"date_add('{start_date}', cast(id as int))\"))\n",
    "    .drop(\"id\")\n",
    ")\n",
    "\n",
    "calendar_df = (\n",
    "    dates_df\n",
    "    .withColumn(\"CalendarDate\", col(\"date\"))\n",
    "    .withColumn(\"Day\", dayofmonth(col(\"date\")))\n",
    "    .withColumn(\"DayOfWeek\", dayofweek(col(\"date\")))\n",
    "    .withColumn(\"DayName\", date_format(col(\"date\"), \"EEEE\"))\n",
    "    .withColumn(\"IsWeekend\", expr(\"DayOfWeek IN (1,7)\"))\n",
    "    .withColumn(\"DayOfYear\", dayofyear(col(\"date\")))\n",
    "    .withColumn(\"WeekOfYear\", weekofyear(col(\"date\")))\n",
    "    .withColumn(\"Month\", month(col(\"date\")))\n",
    "    .withColumn(\"MonthName\", date_format(col(\"date\"), \"MMMM\"))\n",
    "    .withColumn(\"Quarter\", quarter(col(\"date\")))\n",
    "    .withColumn(\"Year\", year(col(\"date\")))\n",
    "    .withColumn(\"FirstDayOfMonth\", trunc(col(\"date\"), \"month\"))\n",
    "    .withColumn(\"LastDayOfMonth\", last_day(col(\"date\")))\n",
    "    .withColumn(\"FirstDayOfYear\", trunc(col(\"date\"), \"year\"))\n",
    "    .withColumn(\"LastDayOfYear\", last_day(trunc(col(\"date\"), \"year\") + expr(\"INTERVAL 11 MONTH\")))\n",
    "    .withColumn(\"CalendarKey\", date_format(col(\"date\"), \"yyyyMMdd\").cast(\"int\"))\n",
    "    .select(\n",
    "        \"CalendarKey\", \"CalendarDate\", \"Day\", \"DayOfWeek\", \"DayName\", \"IsWeekend\",\n",
    "        \"DayOfYear\", \"WeekOfYear\", \"Month\", \"MonthName\", \"Quarter\", \"Year\",\n",
    "        \"FirstDayOfMonth\", \"LastDayOfMonth\", \"FirstDayOfYear\", \"LastDayOfYear\"\n",
    "    )\n",
    ")\n",
    "\n",
    "calendar_df.write.format(\"delta\").mode(\"overwrite\").saveAsTable(\"neighbor.silver.calendar\")\n",
    "\n",
    "display(calendar_df)"
   ]
  },
  {
   "cell_type": "code",
   "execution_count": 0,
   "metadata": {
    "application/vnd.databricks.v1+cell": {
     "cellMetadata": {
      "byteLimit": 2048000,
      "rowLimit": 10000
     },
     "inputWidgets": {},
     "nuid": "84714c60-234e-4717-a391-d680e10d0a3c",
     "showTitle": false,
     "tableResultSettingsMap": {},
     "title": ""
    }
   },
   "outputs": [],
   "source": [
    "from pyspark.sql.functions import (\n",
    "    lit, expr, date_format, concat_ws, lpad, col\n",
    ")\n",
    "\n",
    "IntervalsInDay = 48\n",
    "\n",
    "TimeDF = (\n",
    "    spark.range(0, IntervalsInDay)\n",
    "    .withColumn(\"Hour\", (col(\"id\") / 2).cast(\"int\"))\n",
    "    .withColumn(\"Minute\", (col(\"id\") % 2) * 30)\n",
    "    .withColumn(\n",
    "        \"TimeKey\",\n",
    "        concat_ws(\n",
    "            \"\",\n",
    "            lpad(col(\"Hour\").cast(\"string\"), 2, \"0\"),\n",
    "            lpad(col(\"Minute\").cast(\"string\"), 2, \"0\")\n",
    "        ).cast(\"int\")\n",
    "    )\n",
    "    .withColumn(\n",
    "        \"StartTime\",\n",
    "        date_format(expr(\"make_timestamp(2000,1,1,Hour,Minute,0)\"), \"HH:mm:ss.SSSXXX\")\n",
    "    )\n",
    "    .withColumn(\n",
    "        \"EndTime\",\n",
    "        date_format(expr(\"make_timestamp(2000,1,1,Hour,Minute+29,59)\"), \"HH:mm:ss.SSSXXX\")\n",
    "    )\n",
    "    .withColumn(\"AMPM\", expr(\"CASE WHEN Hour < 12 THEN 'AM' ELSE 'PM' END\"))\n",
    "    .withColumn(\"IsMorning\", expr(\"Hour BETWEEN 5 AND 11\"))\n",
    "    .withColumn(\"IsAfternoon\", expr(\"Hour BETWEEN 12 AND 16\"))\n",
    "    .withColumn(\"IsEvening\", expr(\"Hour BETWEEN 17 AND 20\"))\n",
    "    .withColumn(\"IsNight\", expr(\"Hour BETWEEN 21 AND 23 OR Hour BETWEEN 0 AND 4\"))\n",
    "    .select(\n",
    "        \"TimeKey\", \"StartTime\", \"EndTime\", \"Hour\", \"Minute\", \"AMPM\",\n",
    "        \"IsMorning\", \"IsAfternoon\", \"IsEvening\", \"IsNight\"\n",
    "    )\n",
    ")\n",
    "\n",
    "TimeDF.write.format(\"delta\").mode(\"overwrite\").saveAsTable(\"neighbor.silver.time\")\n",
    "\n",
    "display(TimeDF)"
   ]
  }
 ],
 "metadata": {
  "application/vnd.databricks.v1+notebook": {
   "computePreferences": null,
   "dashboards": [],
   "environmentMetadata": {
    "base_environment": "",
    "environment_version": "3"
   },
   "inputWidgetPreferences": null,
   "language": "python",
   "notebookMetadata": {
    "pythonIndentUnit": 4
   },
   "notebookName": "Calendar&Time",
   "widgets": {}
  },
  "language_info": {
   "name": "python"
  }
 },
 "nbformat": 4,
 "nbformat_minor": 0
}
