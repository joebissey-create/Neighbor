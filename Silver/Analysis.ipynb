{
 "cells": [
  {
   "cell_type": "markdown",
   "metadata": {
    "application/vnd.databricks.v1+cell": {
     "cellMetadata": {},
     "inputWidgets": {},
     "nuid": "925fdc78-4e90-4c9c-9998-b11bcc04e162",
     "showTitle": false,
     "tableResultSettingsMap": {},
     "title": ""
    }
   },
   "source": [
    "# Reservation Summary"
   ]
  },
  {
   "cell_type": "markdown",
   "metadata": {
    "application/vnd.databricks.v1+cell": {
     "cellMetadata": {},
     "inputWidgets": {},
     "nuid": "56afb286-9499-4749-b4f9-05daf20e2049",
     "showTitle": false,
     "tableResultSettingsMap": {},
     "title": ""
    }
   },
   "source": [
    "###### Combining listing events and reservation, I created a table called ReservationFact. This table contains the total number of times the listing appeared in a search.  If it appeared in a search, I then looked for a record in the reservation table if the property was reserved. \n",
    "\n",
    "Removed is_bot and is_host records"
   ]
  },
  {
   "cell_type": "code",
   "execution_count": 0,
   "metadata": {
    "application/vnd.databricks.v1+cell": {
     "cellMetadata": {
      "byteLimit": 2048000,
      "implicitDf": true,
      "rowLimit": 10000
     },
     "inputWidgets": {},
     "nuid": "ced77f94-ecb3-4aee-9f75-cec921ce9c0d",
     "showTitle": false,
     "tableResultSettingsMap": {
      "0": {
       "dataGridStateBlob": "{\"version\":1,\"tableState\":{\"columnPinning\":{\"left\":[\"#row_number#\"],\"right\":[]},\"columnSizing\":{\"DMAName\":105,\"ListingDMA\":112,\"first_attribution_source\":170,\"first_attribution_channel\":180,\"FirstEventDate\":118,\"LastEventDate\":122,\"AppearedInSearches\":151},\"columnVisibility\":{}},\"settings\":{\"columns\":{}},\"syncTimestamp\":1759105462431}",
       "filterBlob": null,
       "queryPlanFiltersBlob": null,
       "tableResultIndex": 0
      }
     },
     "title": ""
    }
   },
   "outputs": [],
   "source": [
    "%sql\n",
    "select * from neighbor.silver.reserverationfact where ListingDMA='9-787'\n",
    "Limit 10"
   ]
  },
  {
   "cell_type": "code",
   "execution_count": 0,
   "metadata": {
    "application/vnd.databricks.v1+cell": {
     "cellMetadata": {
      "byteLimit": 2048000,
      "implicitDf": true,
      "rowLimit": 10000
     },
     "inputWidgets": {},
     "nuid": "39f98241-8a22-43e9-a259-d3243c9b22dd",
     "showTitle": false,
     "tableResultSettingsMap": {},
     "title": ""
    }
   },
   "outputs": [],
   "source": [
    "%sql\n",
    "SELECT\n",
    "DMAName,\n",
    "Sum(TotalSearchCount) as TotalSearches,\n",
    "Sum(Reserved) as TotalReservations,\n",
    "Sum(NotReserved) as TotalNotReserved,\n",
    "ROUND((Sum(Reserved) / Sum(TotalSearchCount)*100),2)  as ConversionRate,\n",
    "ROUND((Sum(NotReserved) / Sum(TotalSearchCount)*100),2)  as BrowseRate\n",
    "from neighbor.silver.reserverationfact\n",
    "group by DMAName\n",
    "order by conversionrate DESC"
   ]
  },
  {
   "cell_type": "markdown",
   "metadata": {
    "application/vnd.databricks.v1+cell": {
     "cellMetadata": {},
     "inputWidgets": {},
     "nuid": "48595528-dee5-4943-8e71-f95cf84b563c",
     "showTitle": false,
     "tableResultSettingsMap": {},
     "title": ""
    }
   },
   "source": [
    "#### So lets peel back the layers and look at the conversion rates at the attribution rate\n"
   ]
  },
  {
   "cell_type": "code",
   "execution_count": 0,
   "metadata": {
    "application/vnd.databricks.v1+cell": {
     "cellMetadata": {
      "byteLimit": 2048000,
      "implicitDf": true,
      "rowLimit": 10000
     },
     "inputWidgets": {},
     "nuid": "580204bf-c89e-4ba3-a495-f2149b2e83dc",
     "showTitle": false,
     "tableResultSettingsMap": {},
     "title": ""
    }
   },
   "outputs": [],
   "source": [
    "%sql\n",
    "SELECT\n",
    "first_attribution_source  as Source,\n",
    "Sum(TotalSearchCount) as TotalSearches,\n",
    "Sum(Reserved) as TotalReservations,\n",
    "Sum(NotReserved) as TotalNotReserved,\n",
    "ROUND((Sum(Reserved) / Sum(TotalSearchCount)*100),2)  as ConversionRate,\n",
    "ROUND((Sum(NotReserved) / Sum(TotalSearchCount)*100),2)  as BrowseRate\n",
    "from neighbor.silver.reserverationfact\n",
    "group by first_attribution_source"
   ]
  },
  {
   "cell_type": "markdown",
   "metadata": {
    "application/vnd.databricks.v1+cell": {
     "cellMetadata": {},
     "inputWidgets": {},
     "nuid": "ebae9e69-6957-43ee-8e93-fb904ba9ecfc",
     "showTitle": false,
     "tableResultSettingsMap": {},
     "title": ""
    }
   },
   "source": [
    "#### Lets look at the channel "
   ]
  },
  {
   "cell_type": "code",
   "execution_count": 0,
   "metadata": {
    "application/vnd.databricks.v1+cell": {
     "cellMetadata": {
      "byteLimit": 2048000,
      "implicitDf": true,
      "rowLimit": 10000
     },
     "inputWidgets": {},
     "nuid": "d0b283d8-22e6-405d-9a2d-cd6ba4f28680",
     "showTitle": false,
     "tableResultSettingsMap": {},
     "title": ""
    }
   },
   "outputs": [],
   "source": [
    "%sql\n",
    "SELECT\n",
    "first_attribution_channel  as Channel,\n",
    "Sum(TotalSearchCount) as TotalSearches,\n",
    "Sum(Reserved) as TotalReservations,\n",
    "Sum(NotReserved) as TotalNotReserved,\n",
    "ROUND((Sum(Reserved) / Sum(TotalSearchCount)*100),2)  as ConversionRate,\n",
    "ROUND((Sum(NotReserved) / Sum(TotalSearchCount)*100),2)  as BrowseRate\n",
    "from neighbor.silver.reserverationfact\n",
    "group by first_attribution_channel\n",
    "order by conversionrate DESC"
   ]
  },
  {
   "cell_type": "markdown",
   "metadata": {
    "application/vnd.databricks.v1+cell": {
     "cellMetadata": {},
     "inputWidgets": {},
     "nuid": "6312f808-b813-43c8-bbaa-535b0c831282",
     "showTitle": false,
     "tableResultSettingsMap": {},
     "title": ""
    }
   },
   "source": [
    "#### Lets combine Source and Channel and look for some nuances"
   ]
  },
  {
   "cell_type": "code",
   "execution_count": 0,
   "metadata": {
    "application/vnd.databricks.v1+cell": {
     "cellMetadata": {
      "byteLimit": 2048000,
      "implicitDf": true,
      "rowLimit": 10000
     },
     "inputWidgets": {},
     "nuid": "fb78b80f-7324-48bc-ba6b-e76a5a8d5ac0",
     "showTitle": false,
     "tableResultSettingsMap": {},
     "title": ""
    }
   },
   "outputs": [],
   "source": [
    "%sql\n",
    "SELECT\n",
    "first_attribution_source as Source,\n",
    "first_attribution_channel  as Channel,\n",
    "Sum(TotalSearchCount) as TotalSearches,\n",
    "Sum(Reserved) as TotalReservations,\n",
    "Sum(NotReserved) as TotalNotReserved,\n",
    "ROUND((Sum(Reserved) / Sum(TotalSearchCount)*100),2)  as ConversionRate,\n",
    "ROUND((Sum(NotReserved) / Sum(TotalSearchCount)*100),2)  as BrowseRate\n",
    "from neighbor.silver.reserverationfact\n",
    "group by \n",
    "first_attribution_source,\n",
    "first_attribution_channel\n",
    "order by conversionrate DESC"
   ]
  },
  {
   "cell_type": "markdown",
   "metadata": {
    "application/vnd.databricks.v1+cell": {
     "cellMetadata": {},
     "inputWidgets": {},
     "nuid": "6713901d-2a81-4a76-ba09-368e26d1fef3",
     "showTitle": false,
     "tableResultSettingsMap": {},
     "title": ""
    }
   },
   "source": [
    "Some interesting differences in the conversion rate in the channel data. At an aggregate, Reddit is the lowest and Google Maps is the highest  Lets do a Pivot and see how the conversion rate by DMA by channel compares"
   ]
  },
  {
   "cell_type": "code",
   "execution_count": 0,
   "metadata": {
    "application/vnd.databricks.v1+cell": {
     "cellMetadata": {
      "byteLimit": 2048000,
      "implicitDf": true,
      "rowLimit": 10000
     },
     "inputWidgets": {},
     "nuid": "bec4f031-7363-446c-b402-3134fb9e14ac",
     "showTitle": false,
     "tableResultSettingsMap": {},
     "title": ""
    }
   },
   "outputs": [
    {
     "output_type": "display_data",
     "data": {
      "text/plain": [
       "Databricks visualization. Run in Databricks to view."
      ]
     },
     "metadata": {
      "application/vnd.databricks.v1.subcommand+json": {
       "baseErrorDetails": null,
       "bindings": {},
       "collapsed": false,
       "command": "%sql WITH q AS (SELECT\nDMAName,\nfirst_attribution_channel  as Channel,\nROUND((Sum(Reserved) / Sum(TotalSearchCount)*100),2)  as ConversionRate\nfrom neighbor.silver.reserverationfact \ngroup by \nDMAName,\nfirst_attribution_channel) SELECT `DMAName`,`Channel`,AVG(`ConversionRate`) `ConversionRate_alias` FROM q GROUP BY `Channel`,`DMAName` ORDER BY `DMAName` ASC,`Channel` ASC",
       "commandTitle": "Conversion Heat Map",
       "commandType": "auto",
       "commandVersion": 0,
       "commentThread": [],
       "commentsVisible": false,
       "contentSha256Hex": null,
       "customPlotOptions": {
        "redashChart": [
         {
          "key": "type",
          "value": "PIVOT_TABLE"
         },
         {
          "key": "options",
          "value": {
           "cell": {
            "field": "ConversionRate",
            "transform": {
             "fn": "avg"
            }
           },
           "cellNumberFormat": "0.00%",
           "colorCellsByValue": true,
           "columns": [
            {
             "field": "Channel",
             "sort": "ascending"
            }
           ],
           "rows": [
            {
             "field": "DMAName",
             "sort": "ascending"
            }
           ]
          }
         }
        ]
       },
       "datasetPreviewNameToCmdIdMap": {},
       "diffDeletes": [],
       "diffInserts": [],
       "displayType": "redashChart",
       "error": null,
       "errorDetails": null,
       "errorSummary": null,
       "errorTraceType": null,
       "finishTime": 0,
       "globalVars": {},
       "guid": "",
       "height": "auto",
       "hideCommandCode": false,
       "hideCommandResult": false,
       "iPythonMetadata": null,
       "inputWidgets": {},
       "isLockedInExamMode": false,
       "latestAssumeRoleInfo": null,
       "latestUser": "a user",
       "latestUserId": null,
       "listResultMetadata": null,
       "metadata": {},
       "nuid": "28ef9e26-6ce4-4533-b52c-efad5b64a81f",
       "origId": 0,
       "parentHierarchy": [],
       "pivotAggregation": null,
       "pivotColumns": null,
       "position": 1.9951171875,
       "resultDbfsErrorMessage": null,
       "resultDbfsStatus": "INLINED_IN_TREE",
       "results": null,
       "showCommandTitle": false,
       "startTime": 0,
       "state": "input",
       "streamStates": {},
       "subcommandOptions": {
        "queryPlan": {
         "groups": [
          {
           "column": "DMAName",
           "type": "column"
          },
          {
           "column": "Channel",
           "type": "column"
          }
         ],
         "order_by": [
          {
           "direction": "asc",
           "expression": {
            "identifier": "DMAName",
            "kind": "identifier"
           }
          },
          {
           "direction": "asc",
           "expression": {
            "identifier": "Channel",
            "kind": "identifier"
           }
          }
         ],
         "selects": [
          {
           "column": "DMAName",
           "type": "column"
          },
          {
           "column": "Channel",
           "type": "column"
          },
          {
           "alias": "ConversionRate_alias",
           "args": [
            {
             "column": "ConversionRate",
             "type": "column"
            }
           ],
           "function": "AVG",
           "type": "function"
          }
         ]
        }
       },
       "submitTime": 0,
       "subtype": "tableResultSubCmd.visualization",
       "tableResultIndex": 0,
       "tableResultSettingsMap": {},
       "useConsistentColors": false,
       "version": "CommandV1",
       "width": "auto",
       "workflows": null,
       "xColumns": null,
       "yColumns": null
      }
     },
     "output_type": "display_data"
    }
   ],
   "source": [
    "%sql\n",
    "SELECT\n",
    "DMAName,\n",
    "first_attribution_channel  as Channel,\n",
    "ROUND((Sum(Reserved) / Sum(TotalSearchCount)*100),2)  as ConversionRate\n",
    "from neighbor.silver.reserverationfact \n",
    "group by \n",
    "DMAName,\n",
    "first_attribution_channel\n"
   ]
  },
  {
   "cell_type": "markdown",
   "metadata": {
    "application/vnd.databricks.v1+cell": {
     "cellMetadata": {},
     "inputWidgets": {},
     "nuid": "2a5a8d9f-8bb0-4768-8bb9-3980f3576030",
     "showTitle": false,
     "tableResultSettingsMap": {},
     "title": ""
    }
   },
   "source": [
    "####Lets look at the number of reservations at an aggregate"
   ]
  },
  {
   "cell_type": "code",
   "execution_count": 0,
   "metadata": {
    "application/vnd.databricks.v1+cell": {
     "cellMetadata": {
      "byteLimit": 2048000,
      "implicitDf": true,
      "rowLimit": 10000
     },
     "inputWidgets": {},
     "nuid": "67b59021-23a1-48ba-b820-e52adf8781c4",
     "showTitle": false,
     "tableResultSettingsMap": {
      "0": {
       "dataGridStateBlob": "{\"version\":1,\"tableState\":{\"columnPinning\":{\"left\":[\"#row_number#\"],\"right\":[]},\"columnSizing\":{\"ZeroReservations\":147},\"columnVisibility\":{}},\"settings\":{\"columns\":{}},\"syncTimestamp\":1759109487274}",
       "filterBlob": null,
       "queryPlanFiltersBlob": null,
       "tableResultIndex": 0
      }
     },
     "title": ""
    }
   },
   "outputs": [],
   "source": [
    "%sql\n",
    "WITH property_reservations AS (\n",
    "    SELECT\n",
    "        DMAName,\n",
    "        ListingDMA,\n",
    "        SUM(Reserved) AS total_reservations\n",
    "    FROM neighbor.silver.reserverationfact\n",
    "    GROUP BY DMAName,ListingDMA\n",
    ")\n",
    "SELECT\n",
    "    DMAName,\n",
    "    COUNT(ListingDMA) as TotalProperties,\n",
    "    COUNT(CASE WHEN total_reservations = 0 THEN 1 END) AS ZeroReservations,\n",
    "    COUNT(CASE WHEN total_reservations = 1 THEN 1 END) AS OneReservation,\n",
    "    COUNT(CASE WHEN total_reservations = 2 THEN 1 END) AS TwoReservations,\n",
    "    COUNT(CASE WHEN total_reservations = 3 THEN 1 END) AS ThreeReservations,\n",
    "    COUNT(CASE WHEN total_reservations = 4 THEN 1 END) AS FourReservations,\n",
    "    COUNT(CASE WHEN total_reservations >= 5 THEN 1 END) AS FivePlusReservations\n",
    "FROM property_reservations\n",
    "GROUP BY DMAName;"
   ]
  },
  {
   "cell_type": "code",
   "execution_count": 0,
   "metadata": {
    "application/vnd.databricks.v1+cell": {
     "cellMetadata": {
      "byteLimit": 2048000,
      "implicitDf": true,
      "rowLimit": 10000
     },
     "inputWidgets": {},
     "nuid": "61ed7266-8f7a-49c8-9ad6-eaa6e292287f",
     "showTitle": false,
     "tableResultSettingsMap": {},
     "title": ""
    }
   },
   "outputs": [],
   "source": [
    "%sql\n",
    "With resData as (\n",
    "select \n",
    "ListingDMA,\n",
    "--first_attribution_source,\n",
    "--first_attribution_channel,\n",
    "count (distinct ListingDMA) as Listings,\n",
    "sum(AppearedInSearches) as totalSearches,\n",
    "Avg(AvgSearchPosition) as avgSearchPosition,\n",
    "sum(Reserved) as reserved,\n",
    "sum(NotReserved) as notReserved\n",
    "from  neighbor.silver.reserverationfact --where ListingDMA='3-121'\n",
    "group by \n",
    "ListingDMA--,\n",
    "--first_attribution_source,\n",
    "--first_attribution_channel\n",
    ")\n",
    "\n",
    "select \n",
    "'Zero Reservations' as ReservationCount,\n",
    "count(distinct ListingDMA) as Listings,\n",
    "Round(avg(totalSearches),0)  as AvgSearchReturns,\n",
    "Round(Avg(avgSearchPosition),2) as avgSearchPosition\n",
    "from resData where reserved=0\n",
    "union all\n",
    "select \n",
    "'One Reservation' as ReservationCount,\n",
    "sum(Listings) as Listings,\n",
    "Round(avg(totalSearches),0)  as AvgSearchReturns,\n",
    "Round(Avg(avgSearchPosition),2) as avgSearchPosition\n",
    "from resData where reserved=1\n",
    "union all\n",
    "select \n",
    "'Two Reservations' as ReservationCount,\n",
    "sum(Listings) as Listings,\n",
    "Round(avg(totalSearches),0)  as AvgSearchReturns,\n",
    "Round(Avg(avgSearchPosition),2) as avgSearchPosition\n",
    "from resData where reserved=2\n",
    "union all\n",
    "select \n",
    "'Three Reservations' as ReservationCount,\n",
    "sum(Listings) as Listings,\n",
    "Round(avg(totalSearches),0)  as AvgSearchReturns,\n",
    "Round(Avg(avgSearchPosition),2) as avgSearchPosition\n",
    "from resData where reserved=3\n",
    "union all\n",
    "select \n",
    "'Four Reservations' as ReservationCount,\n",
    "sum(Listings) as Listings,\n",
    "Round(avg(totalSearches),0)  as AvgSearchReturns,\n",
    "Round(Avg(avgSearchPosition),2) as avgSearchPosition\n",
    "from resData where reserved=4\n",
    "union all\n",
    "select \n",
    "'Five+ Reservations' as ReservationCount,\n",
    "sum(Listings) as Listings,\n",
    "Round(avg(totalSearches),0)  as AvgSearchReturns,\n",
    "Round(Avg(avgSearchPosition),2) as avgSearchPosition\n",
    "from resData where reserved>4\n",
    "\n",
    "\n"
   ]
  },
  {
   "cell_type": "markdown",
   "metadata": {
    "application/vnd.databricks.v1+cell": {
     "cellMetadata": {},
     "inputWidgets": {},
     "nuid": "457d859f-ba4a-4c8c-9ad3-c8f8f48b82eb",
     "showTitle": false,
     "tableResultSettingsMap": {},
     "title": ""
    }
   },
   "source": [
    "##SEARCH DMA SUMMARY"
   ]
  },
  {
   "cell_type": "code",
   "execution_count": 0,
   "metadata": {
    "application/vnd.databricks.v1+cell": {
     "cellMetadata": {
      "byteLimit": 2048000,
      "rowLimit": 10000
     },
     "inputWidgets": {},
     "nuid": "3aa593f2-e394-4c66-ae0a-0ea9d98258eb",
     "showTitle": false,
     "tableResultSettingsMap": {},
     "title": ""
    }
   },
   "outputs": [],
   "source": [
    "## Load Python libraries \n",
    "%pip install folium"
   ]
  },
  {
   "cell_type": "code",
   "execution_count": 0,
   "metadata": {
    "application/vnd.databricks.v1+cell": {
     "cellMetadata": {
      "byteLimit": 2048000,
      "implicitDf": true,
      "rowLimit": 10000
     },
     "inputWidgets": {},
     "nuid": "a354358f-990f-494d-af30-6533514a6896",
     "showTitle": false,
     "tableResultSettingsMap": {},
     "title": ""
    }
   },
   "outputs": [],
   "source": [
    "%sql\n",
    "\n",
    "select \n",
    "c.DMAName,\n",
    "count(distinct a.MergedAmplitudeID) as DistinctUsers,\n",
    "count(distinct a.SearchID) as TotalSearches,\n",
    "count(distinct a.priorsearchid) as PriorSearches,\n",
    "count(distinct a.listingID) as ListingCount,\n",
    "round(avg(a.SearchCounts),0) as AvgPropertiesReturned,\n",
    "round(avg(AvgSearchPositionClicked),0) as AvgClickPosition,\n",
    "sum(PropertiesClicked) as PropertiesClicked,\n",
    "round((sum(a.PropertiesClicked) /  count(distinct a.SearchID)),2) as AvgPropertiesClicked\n",
    "\n",
    " from neighbor.silver.searchevents a join\n",
    "neighbor.silver.searchterm b on a.SearchTermID=b.SearchTermID\n",
    "join neighbor.silver.dma c on a.DMAID=c.DMAID\n",
    "join neighbor.silver.channel d on a.channelID=d.channelID\n",
    "join neighbor.silver.time e on a.TimeKey=e.TimeKey\n",
    "join neighbor.silver.source f on a.SourceID=f.SourceID\n",
    "join neighbor.silver.calendar g on a.CalendarKey=g.CalendarKey\n",
    "\n",
    "group by c.DMAName"
   ]
  },
  {
   "cell_type": "code",
   "execution_count": 0,
   "metadata": {
    "application/vnd.databricks.v1+cell": {
     "cellMetadata": {
      "byteLimit": 2048000,
      "rowLimit": 10000
     },
     "inputWidgets": {},
     "nuid": "de9de0f8-f8b7-47a1-8236-6fd6a3e4334b",
     "showTitle": false,
     "tableResultSettingsMap": {},
     "title": ""
    }
   },
   "outputs": [],
   "source": [
    "from folium.plugins import MarkerCluster\n",
    "\n",
    "# Center the map at the mean location\n",
    "center_lat = pdf['latitude'].mean()\n",
    "center_lon = pdf['longitude'].mean()\n",
    "m = folium.Map(location=[center_lat, center_lon], zoom_start=6)\n",
    "\n",
    "# Add clustered points\n",
    "marker_cluster = MarkerCluster().add_to(m)\n",
    "for _, row in pdf.iterrows():\n",
    "    folium.CircleMarker(\n",
    "        location=[row['latitude'], row['longitude']],\n",
    "        radius=1,\n",
    "        color='blue',\n",
    "        fill=True,\n",
    "        fill_opacity=0.6\n",
    "    ).add_to(marker_cluster)\n",
    "\n",
    "display(m)"
   ]
  },
  {
   "cell_type": "code",
   "execution_count": 0,
   "metadata": {
    "application/vnd.databricks.v1+cell": {
     "cellMetadata": {
      "byteLimit": 2048000,
      "implicitDf": true,
      "rowLimit": 10000
     },
     "inputWidgets": {},
     "nuid": "b67faa63-ff75-435a-ac62-1c862d2cc94a",
     "showTitle": false,
     "tableResultSettingsMap": {},
     "title": ""
    }
   },
   "outputs": [],
   "source": [
    "%sql\n",
    "SELECT\n",
    "b.state,\n",
    "a.search_type,\n",
    "search_dma,\n",
    "count(distinct a.search_id) as TotalSearches\n",
    "FROM \n",
    "neighbor.bronze.all_search_events a JOIN\n",
    "     neighbor.bronze.us_state_bounding_boxes b\n",
    "     on a.latitude between b.min_lat and b.max_lat\n",
    "     and a.longitude between b.min_lon and b.max_lon\n",
    "group by \n",
    "b.state,\n",
    "a.search_type,\n",
    "search_dma\n",
    "order by state"
   ]
  },
  {
   "cell_type": "code",
   "execution_count": 0,
   "metadata": {
    "application/vnd.databricks.v1+cell": {
     "cellMetadata": {
      "byteLimit": 2048000,
      "implicitDf": true,
      "rowLimit": 10000
     },
     "inputWidgets": {},
     "nuid": "174811e3-3317-4dbf-b94b-da0821f0e43c",
     "showTitle": false,
     "tableResultSettingsMap": {
      "0": {
       "dataGridStateBlob": "{\"version\":1,\"tableState\":{\"columnPinning\":{\"left\":[\"#row_number#\"],\"right\":[]},\"columnSizing\":{},\"columnVisibility\":{}},\"settings\":{\"columns\":{}},\"syncTimestamp\":1759037145725}",
       "filterBlob": null,
       "queryPlanFiltersBlob": null,
       "tableResultIndex": 0
      }
     },
     "title": ""
    }
   },
   "outputs": [
    {
     "output_type": "display_data",
     "data": {
      "text/plain": [
       "Databricks visualization. Run in Databricks to view."
      ]
     },
     "metadata": {
      "application/vnd.databricks.v1.subcommand+json": {
       "baseErrorDetails": null,
       "bindings": {},
       "collapsed": false,
       "command": "%sql\nSELECT\n  b.state AS stage1,\n  search_dma AS stage2,\n  COUNT(DISTINCT search_id) AS value\nFROM \n  neighbor.bronze.all_search_events a\nJOIN\n  neighbor.bronze.us_state_bounding_boxes b\n  ON a.latitude BETWEEN b.min_lat AND b.max_lat\n  AND a.longitude BETWEEN b.min_lon AND b.max_lon\nGROUP BY\n  state,\n  search_dma\nORDER BY\n  value DESC",
       "commandTitle": "Visualization 1",
       "commandType": "auto",
       "commandVersion": 0,
       "commentThread": [],
       "commentsVisible": false,
       "contentSha256Hex": null,
       "customPlotOptions": {
        "redashChart": [
         {
          "key": "type",
          "value": "CHOROPLETH"
         },
         {
          "key": "options",
          "value": {
           "clusteringMode": "e",
           "colors": {
            "background": "#ffffff",
            "borders": "#ffffff",
            "max": "#002FB4",
            "min": "#799CFF",
            "noValue": "#dddddd"
           },
           "keyColumn": "stage1",
           "legend": {
            "alignText": "right",
            "position": "bottom-left",
            "visible": true
           },
           "mapType": "usa",
           "noValuePlaceholder": "N/A",
           "popup": {
            "enabled": true,
            "template": "Region: <b>{{ @@name }}</b>\n<br>\nValue: <b>{{ @@value }}</b>"
           },
           "steps": 5,
           "targetField": "name",
           "tooltip": {
            "enabled": true,
            "template": "<b>{{ @@name }}</b>: {{ @@value }}"
           },
           "valueColumn": "value",
           "valueFormat": "0,0.00"
          }
         }
        ]
       },
       "datasetPreviewNameToCmdIdMap": {},
       "diffDeletes": [],
       "diffInserts": [],
       "displayType": "redashChart",
       "error": null,
       "errorDetails": null,
       "errorSummary": null,
       "errorTraceType": null,
       "finishTime": 0,
       "globalVars": {},
       "guid": "",
       "height": "auto",
       "hideCommandCode": false,
       "hideCommandResult": false,
       "iPythonMetadata": null,
       "inputWidgets": {},
       "isLockedInExamMode": false,
       "latestAssumeRoleInfo": null,
       "latestUser": "a user",
       "latestUserId": null,
       "listResultMetadata": null,
       "metadata": {},
       "nuid": "f261ad51-cdd2-4ef4-8791-e945a8a383bf",
       "origId": 0,
       "parentHierarchy": [],
       "pivotAggregation": null,
       "pivotColumns": null,
       "position": 7.0,
       "resultDbfsErrorMessage": null,
       "resultDbfsStatus": "INLINED_IN_TREE",
       "results": null,
       "showCommandTitle": false,
       "startTime": 0,
       "state": "input",
       "streamStates": {},
       "subcommandOptions": {},
       "submitTime": 0,
       "subtype": "tableResultSubCmd.visualization",
       "tableResultIndex": 0,
       "tableResultSettingsMap": {},
       "useConsistentColors": false,
       "version": "CommandV1",
       "width": "auto",
       "workflows": null,
       "xColumns": null,
       "yColumns": null
      }
     },
     "output_type": "display_data"
    }
   ],
   "source": [
    "%sql\n",
    "SELECT \n",
    "  b.state AS stage1,\n",
    "  search_term AS stage3,\n",
    "  COUNT(DISTINCT search_id) AS value\n",
    "FROM \n",
    "  neighbor.bronze.all_search_events a\n",
    "JOIN\n",
    "  neighbor.bronze.us_state_bounding_boxes b\n",
    "  ON a.latitude BETWEEN b.min_lat AND b.max_lat\n",
    "  AND a.longitude BETWEEN b.min_lon AND b.max_lon\n",
    "GROUP BY\n",
    "  state,\n",
    "  search_term\n",
    "ORDER BY\n",
    "  value DESC\n"
   ]
  },
  {
   "cell_type": "code",
   "execution_count": 0,
   "metadata": {
    "application/vnd.databricks.v1+cell": {
     "cellMetadata": {
      "byteLimit": 2048000,
      "implicitDf": true,
      "rowLimit": 10000
     },
     "inputWidgets": {},
     "nuid": "4c06acbe-29d1-430f-8169-2a784fcd99ff",
     "showTitle": false,
     "tableResultSettingsMap": {},
     "title": ""
    }
   },
   "outputs": [
    {
     "output_type": "display_data",
     "data": {
      "text/plain": [
       "Databricks visualization. Run in Databricks to view."
      ]
     },
     "metadata": {
      "application/vnd.databricks.v1.subcommand+json": {
       "baseErrorDetails": null,
       "bindings": {},
       "collapsed": false,
       "command": "%sql WITH q AS (SELECT \n  b.state AS stage1,\n  search_term AS stage3,\n  COUNT(DISTINCT search_id) AS value\nFROM \n  neighbor.bronze.all_search_events a\nJOIN\n  neighbor.bronze.us_state_bounding_boxes b\n  ON a.latitude BETWEEN b.min_lat AND b.max_lat\n  AND a.longitude BETWEEN b.min_lon AND b.max_lon\nGROUP BY\n  state,\n  search_term\nORDER BY\n  value DESC) SELECT `stage1`,`stage3`,SUM(`value`) `value_alias` FROM q GROUP BY `stage1`,`stage3` ORDER BY `stage1` ASC,`stage3` ASC",
       "commandTitle": "Visualization 1",
       "commandType": "auto",
       "commandVersion": 0,
       "commentThread": [],
       "commentsVisible": false,
       "contentSha256Hex": null,
       "customPlotOptions": {
        "redashChart": [
         {
          "key": "type",
          "value": "PIVOT_TABLE"
         },
         {
          "key": "options",
          "value": {
           "cell": {
            "field": "value",
            "transform": {
             "fn": "sum"
            }
           },
           "columns": [
            {
             "field": "Search Term",
             "sort": "ascending"
            }
           ],
           "rows": [
            {
             "field": "State Origin",
             "sort": "ascending"
            },
            {
             "field": "Search DMA",
             "sort": "ascending"
            }
           ]
          }
         }
        ]
       },
       "datasetPreviewNameToCmdIdMap": {},
       "diffDeletes": [],
       "diffInserts": [],
       "displayType": "redashChart",
       "error": null,
       "errorDetails": null,
       "errorSummary": null,
       "errorTraceType": null,
       "finishTime": 0,
       "globalVars": {},
       "guid": "",
       "height": "auto",
       "hideCommandCode": false,
       "hideCommandResult": false,
       "iPythonMetadata": null,
       "inputWidgets": {},
       "isLockedInExamMode": false,
       "latestAssumeRoleInfo": null,
       "latestUser": "a user",
       "latestUserId": null,
       "listResultMetadata": null,
       "metadata": {},
       "nuid": "5e384227-9821-416b-8ae8-cdbbfd4c4eae",
       "origId": 0,
       "parentHierarchy": [],
       "pivotAggregation": null,
       "pivotColumns": null,
       "position": 8.0,
       "resultDbfsErrorMessage": null,
       "resultDbfsStatus": "INLINED_IN_TREE",
       "results": null,
       "showCommandTitle": false,
       "startTime": 0,
       "state": "input",
       "streamStates": {},
       "subcommandOptions": {
        "queryPlan": {
         "groups": [
          {
           "column": "State Origin",
           "type": "column"
          },
          {
           "column": "Search DMA",
           "type": "column"
          },
          {
           "column": "Search Term",
           "type": "column"
          }
         ],
         "order_by": [
          {
           "direction": "asc",
           "expression": {
            "identifier": "State Origin",
            "kind": "identifier"
           }
          },
          {
           "direction": "asc",
           "expression": {
            "identifier": "Search DMA",
            "kind": "identifier"
           }
          },
          {
           "direction": "asc",
           "expression": {
            "identifier": "Search Term",
            "kind": "identifier"
           }
          }
         ],
         "selects": [
          {
           "column": "State Origin",
           "type": "column"
          },
          {
           "column": "Search DMA",
           "type": "column"
          },
          {
           "column": "Search Term",
           "type": "column"
          },
          {
           "alias": "value_alias",
           "args": [
            {
             "column": "value",
             "type": "column"
            }
           ],
           "function": "SUM",
           "type": "function"
          }
         ]
        }
       },
       "submitTime": 0,
       "subtype": "tableResultSubCmd.visualization",
       "tableResultIndex": 0,
       "tableResultSettingsMap": {},
       "useConsistentColors": false,
       "version": "CommandV1",
       "width": "auto",
       "workflows": null,
       "xColumns": null,
       "yColumns": null
      }
     },
     "output_type": "display_data"
    }
   ],
   "source": [
    "%sql\n",
    "SELECT \n",
    "  b.state AS `State Origin`,\n",
    "  search_term AS `Search Term`,\n",
    "  search_dma AS `Search DMA`,\n",
    "  COUNT(DISTINCT search_id) AS value\n",
    "FROM \n",
    "  neighbor.bronze.all_search_events a\n",
    "JOIN\n",
    "  neighbor.bronze.us_state_bounding_boxes b\n",
    "  ON a.latitude BETWEEN b.min_lat AND b.max_lat\n",
    "  AND a.longitude BETWEEN b.min_lon AND b.max_lon\n",
    "GROUP BY\n",
    "  state,\n",
    "  search_term,\n",
    "  search_dma\n",
    "ORDER BY\n",
    "  value DESC\n"
   ]
  }
 ],
 "metadata": {
  "application/vnd.databricks.v1+notebook": {
   "computePreferences": null,
   "dashboards": [],
   "environmentMetadata": {
    "base_environment": "",
    "environment_version": "3"
   },
   "inputWidgetPreferences": null,
   "language": "python",
   "notebookMetadata": {
    "mostRecentlyExecutedCommandWithImplicitDF": {
     "commandId": 6989209269000955,
     "dataframes": [
      "_sqldf"
     ]
    },
    "pythonIndentUnit": 4
   },
   "notebookName": "Analysis",
   "widgets": {}
  },
  "language_info": {
   "name": "python"
  }
 },
 "nbformat": 4,
 "nbformat_minor": 0
}
